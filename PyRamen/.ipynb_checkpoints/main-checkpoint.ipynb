{
 "cells": [
  {
   "cell_type": "code",
   "execution_count": null,
   "id": "bec2bdef-8b09-426f-95de-ab0c1f602c74",
   "metadata": {},
   "outputs": [],
   "source": [
    "# ---------PyRamen Assignment --------\n",
    "# ```read and manipulate date exervise```"
   ]
  },
  {
   "cell_type": "code",
   "execution_count": 1,
   "id": "ea4cf3b7-3e16-4fdf-b7cf-55fdf46a5a2c",
   "metadata": {},
   "outputs": [],
   "source": [
    "# Import files\n",
    "\n",
    "from pathlib import Path\n",
    "import csv\n",
    "import numpy_financial as npf\n",
    "\n"
   ]
  },
  {
   "cell_type": "code",
   "execution_count": 2,
   "id": "91a8bad8-510b-4354-9488-b2be693e49a3",
   "metadata": {},
   "outputs": [],
   "source": [
    "# set path for the menu and read\n",
    "\n",
    "menupath=Path(\"Resources/menu_data.csv\")\n",
    "salespath=Path(\"Resources/sales_data.csv\")"
   ]
  },
  {
   "cell_type": "code",
   "execution_count": 3,
   "id": "8ae0aec1-d0db-41a6-91e7-22e9ba09e1bb",
   "metadata": {},
   "outputs": [],
   "source": [
    "# read the menu file and  create a menulist\n",
    "\n",
    "menulist=[]\n",
    "\n",
    "with open(menupath, \"r\") as menuread:\n",
    "    menu=csv.reader(menuread, delimiter=\",\")\n",
    "    header=next(menu)\n",
    "    for row in menu:\n",
    "        menulist.append(row)\n",
    "        \n",
    "    "
   ]
  },
  {
   "cell_type": "code",
   "execution_count": 4,
   "id": "59afd0cf-fe1e-4d92-9e7b-734804726b83",
   "metadata": {},
   "outputs": [],
   "source": [
    "# read the sales and create a sales list\n",
    "\n",
    "saleslist=[]\n",
    "\n",
    "with open(salespath, \"r\") as salesread:\n",
    "    sales=csv.reader(salesread, delimiter=\",\")\n",
    "    header=next(sales)\n",
    "    for row in sales:\n",
    "        saleslist.append(row)\n"
   ]
  },
  {
   "cell_type": "code",
   "execution_count": 23,
   "id": "ab60d66f-37b8-40c5-96f9-dcec7e475061",
   "metadata": {},
   "outputs": [
    {
     "name": "stdout",
     "output_type": "stream",
     "text": [
      "{'nagomi shoyu': {'01-count': 9132, '02-revenue': 100452.0, '03-cogs': 45660, '04-profit': 54792.0}, 'shio ramen': {'01-count': 18312, '02-revenue': 201432.0, '03-cogs': 91560, '04-profit': 109872.0}, 'spicy miso ramen': {'01-count': 27550, '02-revenue': 312288.0, '03-cogs': 137750, '04-profit': 174538.0}, 'vegetarian spicy miso': {'01-count': 36766, '02-revenue': 422880.0, '03-cogs': 183830, '04-profit': 239050.0}, 'miso crab ramen': {'01-count': 45656, '02-revenue': 529560.0, '03-cogs': 237170, '04-profit': 292390.0}, 'soft-shell miso crab ramen': {'01-count': 54786, '02-revenue': 657380.0, '03-cogs': 301080, '04-profit': 356300.0}, 'tori paitan ramen': {'01-count': 63942, '02-revenue': 776408.0, '03-cogs': 356016, '04-profit': 420392.0}, 'tonkotsu ramen': {'01-count': 73230, '02-revenue': 897152.0, '03-cogs': 411744, '04-profit': 485408.0}, 'burnt garlic tonkotsu ramen': {'01-count': 82300, '02-revenue': 1024132.0, '03-cogs': 466164, '04-profit': 557968.0}, 'vegetarian curry + king trumpet mushroom ramen': {'01-count': 91124, '02-revenue': 1138844.0, '03-cogs': 527932, '04-profit': 610912.0}, 'truffle butter ramen': {'01-count': 100106, '02-revenue': 1264592.0, '03-cogs': 590806, '04-profit': 673786.0}}\n"
     ]
    }
   ],
   "source": [
    "# Initiate the report dictionary\n",
    "\n",
    "report={}\n",
    "\n",
    "\n",
    "# loop through every row in the sales list and manu list \n",
    "\n",
    "count=0\n",
    "revenue=0\n",
    "cogs=0\n",
    "profit=0\n",
    "\n",
    "\n",
    "for menurow in menulist:\n",
    "    Item=menurow[0]\n",
    "    Price=float(menurow[3])\n",
    "    Cost=int(menurow[4])\n",
    "    Profit=Price-Cost\n",
    "    for salesrow in saleslist:\n",
    "        Quantity=int(salesrow[3])\n",
    "        Menu_Item=salesrow[4]\n",
    "        if Menu_Item==Item:\n",
    "            count+=Quantity\n",
    "            revenue+=Quantity*Price\n",
    "            cogs+=Quantity*Cost\n",
    "            profit+=Quantity*Profit\n",
    "            report[Item]={}\n",
    "            report[Item][\"01-count\"]=count\n",
    "            report[Item][\"02-revenue\"]=revenue\n",
    "            report[Item][\"03-cogs\"]=cogs\n",
    "            report[Item][\"04-profit\"]=profit\n",
    "\n",
    "print(report)   \n",
    "\n",
    "            \n",
    "\n",
    "            \n",
    "            \n"
   ]
  },
  {
   "cell_type": "code",
   "execution_count": 22,
   "id": "50d8a4d8-9601-4973-a2b6-87cd21453e21",
   "metadata": {},
   "outputs": [],
   "source": [
    "aggregatepath=Path(\"aggregate.csv\")\n",
    "header=[\"Item\", \"Count\", \"Revenue\", \"Cogs\", \"Profit\"]\n",
    "with open(aggregatepath, \"w\") as aggregatewriter:\n",
    "     aggregatereport=csv.writer(aggregatewriter)\n",
    "     aggregatereport.writerow(header)\n",
    "     for name in report:\n",
    "        aggregatereport.writerow([name, report[name][\"01-count\"], report[name][\"02-revenue\"], report[name][\"03-cogs\"], report[name][\"04-profit\"]])\n",
    "                                                                           \n",
    "    \n",
    "        \n",
    "    \n",
    "    \n",
    "    "
   ]
  }
 ],
 "metadata": {
  "kernelspec": {
   "display_name": "Python 3 (ipykernel)",
   "language": "python",
   "name": "python3"
  },
  "language_info": {
   "codemirror_mode": {
    "name": "ipython",
    "version": 3
   },
   "file_extension": ".py",
   "mimetype": "text/x-python",
   "name": "python",
   "nbconvert_exporter": "python",
   "pygments_lexer": "ipython3",
   "version": "3.7.15"
  }
 },
 "nbformat": 4,
 "nbformat_minor": 5
}
