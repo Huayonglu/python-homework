{
 "cells": [
  {
   "cell_type": "code",
   "execution_count": 1,
   "id": "21d41bb8-4488-441d-9750-573d2b77dda6",
   "metadata": {},
   "outputs": [],
   "source": [
    "# import library and Path function\n",
    "import pandas as pd\n",
    "import numpy_financial as npf\n",
    "import csv\n",
    "import numpy as np\n",
    "from pathlib import Path\n"
   ]
  },
  {
   "cell_type": "code",
   "execution_count": 2,
   "id": "2ed40105-6d6e-4f53-bec9-a2292de1f390",
   "metadata": {},
   "outputs": [],
   "source": [
    "# Establish the path of the file for reading\n",
    "\n",
    "csvpath=Path(\"Resources/budget_data.csv\")"
   ]
  },
  {
   "cell_type": "code",
   "execution_count": 3,
   "id": "ff666bd1-677f-4bd3-a240-c3e6e33266a2",
   "metadata": {},
   "outputs": [
    {
     "name": "stdout",
     "output_type": "stream",
     "text": [
      "The total number of months is 86.\n",
      "The total profit is $38382578.\n",
      "The average of the changes in Profit/Losses over the entire period is $7803.48.\n",
      "The greatest increase in profits over the entire period is $1926159 on Feb-2012\n",
      "The greatest decrease in losses over the entire period is $-2196167 on Sep-2013\n"
     ]
    }
   ],
   "source": [
    "# Initialize count, total and dictionary...\n",
    "count = 0\n",
    "total = 0\n",
    "summary={}\n",
    "\n",
    "# open the file for calculation with \"r\" mode and read the header and print\n",
    "\n",
    "with open(csvpath, \"r\") as csvread:\n",
    "    \n",
    "    csvreader=csv.reader(csvread, delimiter = \",\")\n",
    "    header=next(csvreader)\n",
    "    \n",
    "    \n",
    "\n",
    "    # use iteration \"for...as...\" to calculation\n",
    "    for row in csvreader:\n",
    "        date=row[0]\n",
    "        pl=int(row[1])\n",
    "        summary[date]=pl\n",
    "        count+=1\n",
    "        total+=pl\n",
    "    # print the total and count\n",
    "    print(f\"The total number of months is {count}.\")\n",
    "    print(f\"The total profit is ${total}.\")\n",
    "    \n",
    "# Profit increase and decrease anaylsis\n",
    "\n",
    "Analysis={}\n",
    "previousvalue=0\n",
    "for date, value in summary.items():\n",
    "     difference=value-previousvalue\n",
    "     previousvalue=value\n",
    "     Analysis[date]=difference\n",
    "\n",
    "minimum = 0\n",
    "maximum = 0\n",
    "Acount=0\n",
    "Atotal=0\n",
    "\n",
    "for x, y in Analysis.items():\n",
    "    \n",
    "     Acount += 1\n",
    "     Atotal += y\n",
    "    \n",
    "     if y<=minimum:\n",
    "        minimum=y\n",
    "        minimumdate=x\n",
    "     elif y>=maximum:\n",
    "        maximum=y\n",
    "        maximumdate=x\n",
    "Average=round(Atotal/Acount, 2)\n",
    "print(f\"The average of the changes in Profit/Losses over the entire period is ${Average}.\")\n",
    "print(f\"The greatest increase in profits over the entire period is ${maximum} on {maximumdate}\")\n",
    "print(f\"The greatest decrease in losses over the entire period is ${minimum} on {minimumdate}\")\n",
    "        \n",
    "    \n"
   ]
  }
 ],
 "metadata": {
  "kernelspec": {
   "display_name": "Python 3 (ipykernel)",
   "language": "python",
   "name": "python3"
  },
  "language_info": {
   "codemirror_mode": {
    "name": "ipython",
    "version": 3
   },
   "file_extension": ".py",
   "mimetype": "text/x-python",
   "name": "python",
   "nbconvert_exporter": "python",
   "pygments_lexer": "ipython3",
   "version": "3.7.15"
  }
 },
 "nbformat": 4,
 "nbformat_minor": 5
}
